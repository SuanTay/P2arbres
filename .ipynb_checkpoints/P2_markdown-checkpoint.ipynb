{
 "cells": [
  {
   "cell_type": "markdown",
   "metadata": {},
   "source": [
    "# Un titre de niveau 1\n",
    "Voici un peu de texte pour présenter un markdown"
   ]
  },
  {
   "cell_type": "code",
   "execution_count": null,
   "metadata": {},
   "outputs": [],
   "source": [
    "# Un titre de niveau 1\n",
    "Voici un peu de texte pour présenter un markdown"
   ]
  },
  {
   "cell_type": "markdown",
   "metadata": {},
   "source": [
    "## titre de niveau 2\n",
    "**Ceci** est très important"
   ]
  },
  {
   "cell_type": "code",
   "execution_count": null,
   "metadata": {},
   "outputs": [],
   "source": [
    "## titre de niveau 2\n",
    "**Ceci** est très important"
   ]
  },
  {
   "cell_type": "markdown",
   "metadata": {},
   "source": [
    "## autre titre de niveau 2\n",
    "Mais *cela* également !"
   ]
  },
  {
   "cell_type": "code",
   "execution_count": null,
   "metadata": {},
   "outputs": [],
   "source": [
    "## autre titre de niveau 2\n",
    "Mais *cela* également !"
   ]
  },
  {
   "cell_type": "markdown",
   "metadata": {},
   "source": [
    "It's very easy to make some words **bold** and other words *italic* with Markdown. \n",
    "You can even [link to Google!](http://google.com)"
   ]
  },
  {
   "cell_type": "code",
   "execution_count": null,
   "metadata": {},
   "outputs": [],
   "source": [
    "It's very easy to make some words **bold** and other words *italic* with Markdown. \n",
    "You can even [link to Google!](http://google.com)"
   ]
  },
  {
   "cell_type": "markdown",
   "metadata": {},
   "source": [
    "Voici du code :\n",
    "```\n",
    "    if (isAwesome){\n",
    "      return true\n",
    "    }\n",
    "```     "
   ]
  },
  {
   "cell_type": "markdown",
   "metadata": {},
   "source": [
    "Voici du code :\n",
    "```\n",
    "    if (isAwesome){\n",
    "      return true\n",
    "    }\n",
    "```     "
   ]
  },
  {
   "cell_type": "markdown",
   "metadata": {},
   "source": [
    "[@SuanTay](https://github.com/SuanTay)"
   ]
  },
  {
   "cell_type": "code",
   "execution_count": null,
   "metadata": {},
   "outputs": [],
   "source": [
    "[@SuanTay](https://github.com/SuanTay)"
   ]
  }
 ],
 "metadata": {
  "kernelspec": {
   "display_name": "Python 3",
   "language": "python",
   "name": "python3"
  },
  "language_info": {
   "codemirror_mode": {
    "name": "ipython",
    "version": 3
   },
   "file_extension": ".py",
   "mimetype": "text/x-python",
   "name": "python",
   "nbconvert_exporter": "python",
   "pygments_lexer": "ipython3",
   "version": "3.7.6"
  }
 },
 "nbformat": 4,
 "nbformat_minor": 4
}
