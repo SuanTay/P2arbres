{
 "cells": [
  {
   "cell_type": "markdown",
   "metadata": {},
   "source": [
    "# Monty Hall\n",
    "   "
   ]
  },
  {
   "cell_type": "code",
   "execution_count": 2,
   "metadata": {},
   "outputs": [
    {
     "name": "stdout",
     "output_type": "stream",
     "text": [
      "[1 2]\n"
     ]
    }
   ],
   "source": [
    "import numpy as np\n",
    "from random import randint \n",
    "from enum import Enum\n",
    "portes = np.array([1,2,3])\n",
    "#print(portes)\n",
    "\n",
    "portes = np.delete(portes,portes[randint(0,1)])\n",
    "\n",
    "#portes = [1]\n",
    "print(portes)\n",
    "\n"
   ]
  },
  {
   "cell_type": "code",
   "execution_count": 40,
   "metadata": {},
   "outputs": [
    {
     "data": {
      "text/plain": [
       "False"
      ]
     },
     "execution_count": 40,
     "metadata": {},
     "output_type": "execute_result"
    }
   ],
   "source": [
    "r =( 1 == 2)\n",
    "r"
   ]
  },
  {
   "cell_type": "code",
   "execution_count": 29,
   "metadata": {},
   "outputs": [],
   "source": [
    "a = np.array([1, 2, 3, 4, 5, 6, 7, 8, 9])\n",
    "index = [0]\n",
    "\n",
    "a = np.delete(a,[0])"
   ]
  },
  {
   "cell_type": "code",
   "execution_count": 24,
   "metadata": {},
   "outputs": [
    {
     "data": {
      "text/plain": [
       "array([2, 3, 4, 5, 6, 7, 8, 9])"
      ]
     },
     "execution_count": 24,
     "metadata": {},
     "output_type": "execute_result"
    }
   ],
   "source": [
    "a"
   ]
  },
  {
   "cell_type": "code",
   "execution_count": 70,
   "metadata": {},
   "outputs": [],
   "source": [
    "class Strategie(Enum):\n",
    "    CHANGER = 1\n",
    "    GARDER = 2"
   ]
  },
  {
   "cell_type": "code",
   "execution_count": 92,
   "metadata": {},
   "outputs": [],
   "source": [
    "\n",
    "def play(strategie,nb_tours):\n",
    "    '''Simule une partie du jeu Monty Hall.\n",
    "        avec numpy arry comme list\n",
    "        reproduit nb_tours x\n",
    "    '''\n",
    "    lg = np.array([],dtype='i')\n",
    "    \n",
    "    for i in range(nb_tours):\n",
    "    \n",
    "        portes = np.array([1,2,3]) \n",
    "        bonne_porte = randint(0,2)\n",
    "        # Choix du joueur\n",
    "        premier_choix = randint(0,2)\n",
    "        np.delete(portes,premier_choix)\n",
    "         # Le présentateur élimine une porte\n",
    "        if premier_choix == bonne_porte:\n",
    "            np.delete(portes, portes[randint(0,1)])\n",
    "        else:\n",
    "            portes = [bonne_porte]\n",
    "        deuxieme_choix = 0\n",
    "        # Le deuxieme choix depend de la strategie\n",
    "        if strategie == Strategie.CHANGER:\n",
    "            deuxieme_choix = portes[0]\n",
    "        elif strategie == Strategie.GARDER:\n",
    "            deuxieme_choix = premier_choix\n",
    "        else:\n",
    "            raise ValueError(\"Stratégie non reconnue!\")\n",
    "        \n",
    "        np.append( lg,deuxieme_choix == bonne_porte)\n",
    "    return lg"
   ]
  },
  {
   "cell_type": "code",
   "execution_count": 94,
   "metadata": {},
   "outputs": [
    {
     "name": "stdout",
     "output_type": "stream",
     "text": [
      "En changeant de porte, le joueur a gagné 0 sur 10000 parties.\n"
     ]
    }
   ],
   "source": [
    "print(\"En changeant de porte, le joueur a gagné {} sur 10000 parties.\"\n",
    "      .format(sum(play(Strategie.CHANGER, 10000))))"
   ]
  },
  {
   "cell_type": "code",
   "execution_count": null,
   "metadata": {},
   "outputs": [],
   "source": []
  },
  {
   "cell_type": "code",
   "execution_count": 63,
   "metadata": {},
   "outputs": [],
   "source": [
    "import numpy as np\n",
    "%matplotlib inline\n",
    "import matplotlib.pyplot as plt\n",
    "plt.style.use('seaborn-whitegrid')\n"
   ]
  },
  {
   "cell_type": "code",
   "execution_count": 106,
   "metadata": {},
   "outputs": [],
   "source": [
    "N_TRIALS = 1000\n",
    "prizes = np.random.randint(0,3, size=(N_TRIALS)) # Attention, 3\n",
    "# pour numpy, et non pas 2\n",
    "\n",
    "first_choices = np.random.randint(0,3, size=(N_TRIALS))\n",
    "\n",
    "# Si le joueur change de porte, il ne gagne que si son\n",
    "# premier choix n'était pas le bon\n",
    "switching_player_gains = (prizes!=first_choices).astype(int)\n",
    "keeping_player_gains = (prizes==first_choices).astype(int)\n"
   ]
  },
  {
   "cell_type": "code",
   "execution_count": 107,
   "metadata": {},
   "outputs": [
    {
     "name": "stdout",
     "output_type": "stream",
     "text": [
      "670 330\n"
     ]
    },
    {
     "data": {
      "image/png": "[encoded data removed]",
      "text/plain": [
       "<Figure size 432x288 with 1 Axes>"
      ]
     },
     "metadata": {},
     "output_type": "display_data"
    }
   ],
   "source": [
    "sw_sum=switching_player_gains.sum()\n",
    "sw_keep=keeping_player_gains.sum()\n",
    "print (sw_sum, sw_keep)\n",
    "plot = plt.bar([1,2],[sw_sum,sw_keep],tick_label=[\"Changer\",\"Garder\"])\n"
   ]
  },
  {
   "cell_type": "code",
   "execution_count": 108,
   "metadata": {},
   "outputs": [
    {
     "data": {
      "image/png": "[encoded data removed]",
      "text/plain": [
       "<Figure size 432x288 with 1 Axes>"
      ]
     },
     "metadata": {},
     "output_type": "display_data"
    }
   ],
   "source": [
    "figure = plt.figure()\n",
    "plot = plt.scatter(range(N_TRIALS), switching_player_gains.cumsum())\n",
    "plot = plt.scatter(range(N_TRIALS), keeping_player_gains.cumsum())"
   ]
  },
  {
   "cell_type": "code",
   "execution_count": null,
   "metadata": {},
   "outputs": [],
   "source": []
  }
 ],
 "metadata": {
  "kernelspec": {
   "display_name": "Python 3",
   "language": "python",
   "name": "python3"
  },
  "language_info": {
   "codemirror_mode": {
    "name": "ipython",
    "version": 3
   },
   "file_extension": ".py",
   "mimetype": "text/x-python",
   "name": "python",
   "nbconvert_exporter": "python",
   "pygments_lexer": "ipython3",
   "version": "3.7.6"
  }
 },
 "nbformat": 4,
 "nbformat_minor": 4
}
