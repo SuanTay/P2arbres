{
 "cells": [
  {
   "cell_type": "markdown",
   "metadata": {
    "slideshow": {
     "slide_type": "slide"
    }
   },
   "source": [
    "# Contribition à l'optimisation des tournées pour l’entretien des arbres de la ville de Paris\n",
    "## OpenClassRooms\n",
    "## Suan Tay - Juillet 2020\n",
    "<img src=\"https://drive.google.com/uc?id=1VkeQ1v3faPXy-1pBWOovlDNIg21NwKrx\" alt=\"Data Paris\" style=\"width: 600px;\"/>\n"
   ]
  },
  {
   "cell_type": "markdown",
   "metadata": {
    "slideshow": {
     "slide_type": "slide"
    }
   },
   "source": [
    "## Projet 2 : Smart City\n",
    "> Dans le cadre du challenge Data sponsorisé par la ville de Paris.  \n",
    "> je dois aider Paris à devenir une *smart-city* .  \n",
    "> Je dois effectuer une analyse des données sur les *arbres* de Paris.  \n",
    "L'analyse se déroulera en 3 phases :\n",
    "1. Présentation générale du jeu de données\n",
    "2. Démarche méthodologique d’analyse de données \n",
    "3. Synthèse de l’analyse de données"
   ]
  },
  {
   "cell_type": "markdown",
   "metadata": {
    "slideshow": {
     "slide_type": "slide"
    }
   },
   "source": [
    "## Environnement virtuel  \n",
    "  \n",
    "> Environnement utiliser : *p2smartcity*\n",
    " ![image](https://drive.google.com/uc?id=1k0XrIPui99h-smuGSReRHnVWKKyTkrxB)"
   ]
  },
  {
   "cell_type": "markdown",
   "metadata": {
    "slideshow": {
     "slide_type": "slide"
    }
   },
   "source": [
    "## Importation des librairies python spécialisées et csv"
   ]
  },
  {
   "cell_type": "code",
   "execution_count": null,
   "metadata": {
    "slideshow": {
     "slide_type": "fragment"
    }
   },
   "outputs": [],
   "source": [
    "%matplotlib inline\n",
    "\n",
    "import pandas as pd\n",
    "import numpy as np\n",
    "import matplotlib.pyplot as plt\n",
    "import seaborn as sns\n",
    "\n",
    "df = pd.read_csv('p2-arbres-fr.csv', sep=';')"
   ]
  },
  {
   "cell_type": "markdown",
   "metadata": {
    "slideshow": {
     "slide_type": "slide"
    }
   },
   "source": [
    "# 1. Présentation générale du jeu de données"
   ]
  },
  {
   "cell_type": "markdown",
   "metadata": {
    "slideshow": {
     "slide_type": "fragment"
    }
   },
   "source": [
    "## Brève description du jeu de données"
   ]
  },
  {
   "cell_type": "code",
   "execution_count": null,
   "metadata": {
    "slideshow": {
     "slide_type": "subslide"
    }
   },
   "outputs": [],
   "source": [
    "df.info()"
   ]
  },
  {
   "cell_type": "markdown",
   "metadata": {
    "slideshow": {
     "slide_type": "slide"
    }
   },
   "source": [
    "## Calcule des indicateurs statistiques basiques (moyenne et écart-type)  pour les différentes colonnes"
   ]
  },
  {
   "cell_type": "markdown",
   "metadata": {
    "slideshow": {
     "slide_type": "fragment"
    }
   },
   "source": [
    "#### Nombre de colonnes et de lignes"
   ]
  },
  {
   "cell_type": "code",
   "execution_count": null,
   "metadata": {
    "slideshow": {
     "slide_type": "subslide"
    }
   },
   "outputs": [],
   "source": [
    "print('Nombres de lignes : %s , nombres de colonnes : %s' % df.shape)"
   ]
  },
  {
   "cell_type": "markdown",
   "metadata": {
    "slideshow": {
     "slide_type": "subslide"
    }
   },
   "source": [
    "### Statistiques basiques :"
   ]
  },
  {
   "cell_type": "code",
   "execution_count": null,
   "metadata": {
    "slideshow": {
     "slide_type": "subslide"
    }
   },
   "outputs": [],
   "source": [
    "df.describe()"
   ]
  },
  {
   "cell_type": "markdown",
   "metadata": {
    "slideshow": {
     "slide_type": "slide"
    }
   },
   "source": [
    "#### Enumération des colonnes"
   ]
  },
  {
   "cell_type": "code",
   "execution_count": null,
   "metadata": {
    "slideshow": {
     "slide_type": "subslide"
    }
   },
   "outputs": [],
   "source": [
    "df.columns"
   ]
  },
  {
   "cell_type": "markdown",
   "metadata": {
    "slideshow": {
     "slide_type": "skip"
    }
   },
   "source": [
    "#### Type de chaque colonne :"
   ]
  },
  {
   "cell_type": "code",
   "execution_count": null,
   "metadata": {
    "slideshow": {
     "slide_type": "skip"
    }
   },
   "outputs": [],
   "source": [
    "df.dtypes"
   ]
  },
  {
   "cell_type": "markdown",
   "metadata": {
    "slideshow": {
     "slide_type": "slide"
    }
   },
   "source": [
    "## Comparaison de l'ordre de grandeur des grandeurs statistiques des différentes colonnes"
   ]
  },
  {
   "cell_type": "code",
   "execution_count": null,
   "metadata": {
    "slideshow": {
     "slide_type": "subslide"
    }
   },
   "outputs": [],
   "source": [
    "df.describe()"
   ]
  },
  {
   "cell_type": "code",
   "execution_count": null,
   "metadata": {
    "slideshow": {
     "slide_type": "subslide"
    }
   },
   "outputs": [],
   "source": [
    "print('La valeur maximum de la hauteur d\\'un arbre est trop grande : %s (m).' % max(df.hauteur_m))\n",
    "print('Ainsi que la valeur du maximum de la circonference : %s (cm).' % max(df.circonference_cm))"
   ]
  },
  {
   "cell_type": "markdown",
   "metadata": {
    "slideshow": {
     "slide_type": "slide"
    }
   },
   "source": [
    "# 2. Démarche méthodologique d’analyse de données"
   ]
  },
  {
   "cell_type": "markdown",
   "metadata": {
    "slideshow": {
     "slide_type": "slide"
    }
   },
   "source": [
    "##  Données manquantes :"
   ]
  },
  {
   "cell_type": "code",
   "execution_count": null,
   "metadata": {
    "slideshow": {
     "slide_type": "skip"
    }
   },
   "outputs": [],
   "source": [
    "df.isnull().any()\n",
    "# False n'a pas de null\n",
    "# True à des null\n",
    "# A traiter \n",
    "df.columns[df.isnull().any()]"
   ]
  },
  {
   "cell_type": "markdown",
   "metadata": {
    "slideshow": {
     "slide_type": "subslide"
    }
   },
   "source": [
    "##  Dénombrons les données manquantes :"
   ]
  },
  {
   "cell_type": "code",
   "execution_count": null,
   "metadata": {
    "slideshow": {
     "slide_type": "subslide"
    }
   },
   "outputs": [],
   "source": [
    "df.isnull().sum()"
   ]
  },
  {
   "cell_type": "code",
   "execution_count": null,
   "metadata": {
    "slideshow": {
     "slide_type": "subslide"
    }
   },
   "outputs": [],
   "source": [
    "print('Nombres de lignes : %s, nombres de colonnes : %s.' % df.shape)"
   ]
  },
  {
   "cell_type": "markdown",
   "metadata": {
    "slideshow": {
     "slide_type": "slide"
    }
   },
   "source": [
    "### Suppression des données manquantes"
   ]
  },
  {
   "cell_type": "code",
   "execution_count": null,
   "metadata": {
    "slideshow": {
     "slide_type": "subslide"
    }
   },
   "outputs": [],
   "source": [
    "df.dropna(subset=['libelle_francais','espece','domanialite','genre'],inplace=True)"
   ]
  },
  {
   "cell_type": "code",
   "execution_count": null,
   "metadata": {
    "slideshow": {
     "slide_type": "subslide"
    }
   },
   "outputs": [],
   "source": [
    "print('Nombres de lignes : %s, nombres de colonnes : %s.' % df.shape)"
   ]
  },
  {
   "cell_type": "markdown",
   "metadata": {
    "slideshow": {
     "slide_type": "slide"
    }
   },
   "source": [
    "### Supprimons de doublons"
   ]
  },
  {
   "cell_type": "code",
   "execution_count": null,
   "metadata": {
    "slideshow": {
     "slide_type": "subslide"
    }
   },
   "outputs": [],
   "source": [
    "df.drop_duplicates(keep=False, inplace=True)"
   ]
  },
  {
   "cell_type": "code",
   "execution_count": null,
   "metadata": {
    "slideshow": {
     "slide_type": "subslide"
    }
   },
   "outputs": [],
   "source": [
    "print('Nombres de lignes : %s, nombres de colonnes : %s.' % df.shape)"
   ]
  },
  {
   "cell_type": "markdown",
   "metadata": {
    "slideshow": {
     "slide_type": "skip"
    }
   },
   "source": [
    "# Identification des valeurs aberrantes avec la règle 1,5 x écart interquartile\n",
    "https://fr.khanacademy.org/math/statistics-probability/summarizing-quantitative-data/box-whisker-plots/a/identifying-outliers-iqr-rule\n",
    "    \n",
    "https://www.it-swarm.dev/fr/python/detecter-et-exclure-les-valeurs-aberrantes-dans-le-cadre-de-donnees-pandas/1046331960/"
   ]
  },
  {
   "cell_type": "markdown",
   "metadata": {
    "slideshow": {
     "slide_type": "slide"
    }
   },
   "source": [
    "### Valeurs aberrantes avec la règle 1,5 écart interquartile\n",
    "> L’écart interquartile est une mesure de dispersion qui s'obtient en faisant la différence entre le troisième et le premier quartile :  \n",
    "> **EI = Q₃ - Q₁**.  \n",
    "> L'EI est un estimateur statistique robuste.  \n",
    ">  Une valeur est dite aberrante  \n",
    ">  si elle est inférieure à  **Q₁ - 1,5 x EI**  \n",
    ">  et  \n",
    ">  si elle est supérieure à **Q₃ + 1,5 x EI**."
   ]
  },
  {
   "cell_type": "code",
   "execution_count": null,
   "metadata": {
    "slideshow": {
     "slide_type": "subslide"
    }
   },
   "outputs": [],
   "source": [
    "def remove_outliers(df, column):\n",
    "    '''IQR\n",
    "    Cette fonction calcule l'IQR- interquartile range\n",
    "    Parameters\n",
    "    ----------\n",
    "    df : dataframe \n",
    "    column : colonne\n",
    "        Supprime les valeurs aberrantes selon l'IQR.\n",
    "    Returns\n",
    "    -------\n",
    "    df\n",
    "        df (True/False) avec les valeurs qui sont dans IQR\n",
    "    '''\n",
    "    # Calcul Q1, Q2 et IQR\n",
    "    Q1=df[column].quantile(0.25)\n",
    "    Q3=df[column].quantile(0.75)\n",
    "    IQR=Q3 - Q1\n",
    "    #outliers limits\n",
    "    upper = Q3 + 1.5 * IQR\n",
    "    lower = Q1 - 1.5 * IQR\n",
    "    # mask\n",
    "    mask = (df[column] >= lower) & (df[column] <= upper)\n",
    "    return mask"
   ]
  },
  {
   "cell_type": "code",
   "execution_count": null,
   "metadata": {
    "slideshow": {
     "slide_type": "subslide"
    }
   },
   "outputs": [],
   "source": [
    "print(\"Nombre d'enregistrement initial                     : %s \\nNombre de colonnes : %s \" % df.shape)\n",
    "#hauteur\n",
    "df=df[remove_outliers(df,'hauteur_m')]\n",
    "print(\"Nombre d'enregistrement après IQR sur la hauteur    : %s \\nNombre de colonnes : %s \" % df.shape)\n",
    "#circonference\n",
    "df=df[remove_outliers(df,'circonference_cm')]\n",
    "print(\"Nombre d'enregistrement après IQR sur circonference : %s \\nNombre de colonnes : %s \" % df.shape)"
   ]
  },
  {
   "cell_type": "markdown",
   "metadata": {
    "slideshow": {
     "slide_type": "slide"
    }
   },
   "source": [
    "Les données ont été nettoyées :\n",
    "1. Suppression des données vides\n",
    "2. Suppression des doublons\n",
    "3. Suppression des valeurs aberrantes"
   ]
  },
  {
   "cell_type": "markdown",
   "metadata": {
    "slideshow": {
     "slide_type": "slide"
    }
   },
   "source": [
    "# 3. Synthèse de l'analyse de données"
   ]
  },
  {
   "cell_type": "markdown",
   "metadata": {
    "slideshow": {
     "slide_type": "slide"
    }
   },
   "source": [
    "# Analyse univarié "
   ]
  },
  {
   "cell_type": "markdown",
   "metadata": {
    "slideshow": {
     "slide_type": "fragment"
    }
   },
   "source": [
    "## Variable discrète"
   ]
  },
  {
   "cell_type": "markdown",
   "metadata": {
    "slideshow": {
     "slide_type": "fragment"
    }
   },
   "source": [
    "> Les variables discrètes sont des variables numériques ayant des valeurs dénombrables entre deux valeurs. \n",
    "> Une variable discrète est toujours numérique. Par exemple, le nombre de plaintes de clients ou le nombre de défauts."
   ]
  },
  {
   "cell_type": "markdown",
   "metadata": {
    "slideshow": {
     "slide_type": "slide"
    }
   },
   "source": [
    "## Hauteur"
   ]
  },
  {
   "cell_type": "code",
   "execution_count": null,
   "metadata": {
    "slideshow": {
     "slide_type": "fragment"
    }
   },
   "outputs": [],
   "source": [
    "#avec seaborn\n",
    "plt.style.use('seaborn-whitegrid')\n",
    "plt.rcParams.update({ 'font.size' : 15})\n",
    "fig,ax=plt.subplots(1,1, figsize = (15,6))\n",
    "plt.title(\"Histogramme hauteur des arbres\")\n",
    "sns.countplot( x='hauteur_m', data=df[df.hauteur_m>0])\n",
    "ax.set( ylabel=\"Nombre d'arbres\",xlabel=\"Hauteur des arbres (m)\")"
   ]
  },
  {
   "cell_type": "markdown",
   "metadata": {
    "slideshow": {
     "slide_type": "slide"
    }
   },
   "source": [
    "## Circonférence "
   ]
  },
  {
   "cell_type": "code",
   "execution_count": null,
   "metadata": {
    "slideshow": {
     "slide_type": "fragment"
    }
   },
   "outputs": [],
   "source": [
    "# avec Matplotlib\n",
    "plt.subplots(1,1, figsize = (8,6))\n",
    "\n",
    "#l'histogramme sans bins\n",
    "df.circonference_cm.hist()\n",
    "#titre du tableau\n",
    "plt.title(\"Histogramme circonférence\",fontsize=18)\n",
    "plt.xlabel(\"circonférence (cm)\",fontsize=15)\n",
    "plt.ylabel(\"Nombre d'arbres\",fontsize=15)\n",
    "plt.show()"
   ]
  },
  {
   "cell_type": "markdown",
   "metadata": {
    "slideshow": {
     "slide_type": "slide"
    }
   },
   "source": [
    "## Type d'emplacement "
   ]
  },
  {
   "cell_type": "code",
   "execution_count": null,
   "metadata": {
    "slideshow": {
     "slide_type": "fragment"
    }
   },
   "outputs": [],
   "source": [
    "#l'histogramme \n",
    "df.type_emplacement.hist()\n",
    "#titre du tableau\n",
    "plt.title(\"Histogramme type d'emplacement\",fontsize=18)\n",
    "plt.xlabel(\"Type d'emplacement\",size=15)\n",
    "plt.ylabel(\"Nombre d'arbres\",size=15)"
   ]
  },
  {
   "cell_type": "markdown",
   "metadata": {
    "slideshow": {
     "slide_type": "slide"
    }
   },
   "source": [
    "## Variable de catégorie"
   ]
  },
  {
   "cell_type": "markdown",
   "metadata": {
    "slideshow": {
     "slide_type": "fragment"
    }
   },
   "source": [
    "> Les variables de catégorie ont un nombre fini de catégories ou de groupes distincts. Les données de catégorie peuvent ne pas présenter d'ordre logique. \n",
    "> Par exemple, les prédicteurs de catégorie incluent le sexe d'individus, le type de matériel et le mode de paiement."
   ]
  },
  {
   "cell_type": "markdown",
   "metadata": {
    "slideshow": {
     "slide_type": "slide"
    }
   },
   "source": [
    "## Domanialité"
   ]
  },
  {
   "cell_type": "code",
   "execution_count": null,
   "metadata": {
    "slideshow": {
     "slide_type": "fragment"
    }
   },
   "outputs": [],
   "source": [
    "df[['domanialite']].groupby('domanialite')['domanialite'].count().sort_values(ascending=False)"
   ]
  },
  {
   "cell_type": "code",
   "execution_count": null,
   "metadata": {
    "slideshow": {
     "slide_type": "subslide"
    }
   },
   "outputs": [],
   "source": [
    "plt.style.use('seaborn-whitegrid')\n",
    "fig,ax=plt.subplots(1,1, figsize = (8,6))\n",
    "plt.title(\"Histogramme domanialité\", size=18)\n",
    "sns.countplot( y='domanialite', data=df,order = df['domanialite'].value_counts().index)\n",
    "ax.set( xlabel=\"Nombre d'arbres\",ylabel=\"Domanialité par type\")"
   ]
  },
  {
   "cell_type": "markdown",
   "metadata": {
    "slideshow": {
     "slide_type": "slide"
    }
   },
   "source": [
    "## Arrondissement"
   ]
  },
  {
   "cell_type": "code",
   "execution_count": null,
   "metadata": {
    "slideshow": {
     "slide_type": "fragment"
    }
   },
   "outputs": [],
   "source": [
    "df[['arrondissement']].groupby('arrondissement')['arrondissement'].count().sort_values(ascending=False)"
   ]
  },
  {
   "cell_type": "code",
   "execution_count": null,
   "metadata": {
    "slideshow": {
     "slide_type": "subslide"
    }
   },
   "outputs": [],
   "source": [
    "fig,ax=plt.subplots(1,1, figsize = (15,6))\n",
    "sns.countplot( y='arrondissement', data=df, order = df['arrondissement'].value_counts().index)\n",
    "plt.title(\"Histogramme du nombre d'arbres par arrondissement\")\n",
    "ax.set( xlabel=\"Nombre d'arbres\",ylabel=\"Arrondissements\")\n",
    "plt.yticks(size=12)"
   ]
  },
  {
   "cell_type": "markdown",
   "metadata": {
    "slideshow": {
     "slide_type": "slide"
    }
   },
   "source": [
    "### Notion de classement botanique"
   ]
  },
  {
   "cell_type": "markdown",
   "metadata": {
    "slideshow": {
     "slide_type": "fragment"
    }
   },
   "source": [
    "![image](https://drive.google.com/uc?id=1w4TAftKPc7nc1LJ9LhPWH7dgYJEp4iQ9)"
   ]
  },
  {
   "cell_type": "markdown",
   "metadata": {
    "slideshow": {
     "slide_type": "slide"
    }
   },
   "source": [
    "## Espèce"
   ]
  },
  {
   "cell_type": "code",
   "execution_count": null,
   "metadata": {
    "slideshow": {
     "slide_type": "fragment"
    }
   },
   "outputs": [],
   "source": [
    "df[['espece','id']].groupby(['espece']).agg(['count'])"
   ]
  },
  {
   "cell_type": "code",
   "execution_count": null,
   "metadata": {
    "slideshow": {
     "slide_type": "subslide"
    }
   },
   "outputs": [],
   "source": [
    "fig,ax=plt.subplots(1,1, figsize = (15,6))\n",
    "sns.countplot( x=\"espece\", \n",
    "              data=df,\n",
    "              order = df[\"espece\"].value_counts().iloc[:20].index)\n",
    "plt.title(\"Histogramme des espèces d'arbres\", size=17)\n",
    "ax.set( xlabel=\"Espèse d'arbres\",ylabel=\"Nombre d'arbres\")\n",
    "plt.yticks(size=15)\n",
    "plt.xticks(rotation=60,size=15)"
   ]
  },
  {
   "cell_type": "markdown",
   "metadata": {
    "slideshow": {
     "slide_type": "slide"
    }
   },
   "source": [
    "### Variété"
   ]
  },
  {
   "cell_type": "code",
   "execution_count": null,
   "metadata": {
    "slideshow": {
     "slide_type": "fragment"
    }
   },
   "outputs": [],
   "source": [
    "df[['variete','id']].groupby(['variete']).agg(['count'])"
   ]
  },
  {
   "cell_type": "code",
   "execution_count": null,
   "metadata": {
    "slideshow": {
     "slide_type": "subslide"
    }
   },
   "outputs": [],
   "source": [
    "fig,ax=plt.subplots(1,1, figsize = (15,6))\n",
    "sns.countplot( y=\"variete\", \n",
    "              data=df,\n",
    "              order = df[\"variete\"].value_counts().iloc[:20].index)\n",
    "plt.title(\"Histogramme des variétés d'arbres\", size=17)\n",
    "ax.set( xlabel=\"Variétés d'arbres\",ylabel=\"Nombre d'arbres\")\n",
    "plt.yticks(size=15)\n",
    "plt.xticks(rotation=60,size=15)"
   ]
  },
  {
   "cell_type": "markdown",
   "metadata": {
    "slideshow": {
     "slide_type": "slide"
    }
   },
   "source": [
    "## Genre"
   ]
  },
  {
   "cell_type": "code",
   "execution_count": null,
   "metadata": {
    "slideshow": {
     "slide_type": "fragment"
    }
   },
   "outputs": [],
   "source": [
    "df[['genre','id']].groupby(['genre']).agg(['count']).head()"
   ]
  },
  {
   "cell_type": "code",
   "execution_count": null,
   "metadata": {
    "slideshow": {
     "slide_type": "subslide"
    }
   },
   "outputs": [],
   "source": [
    "fig,ax=plt.subplots(1,1, figsize = (15,6))\n",
    "sns.countplot( x=\"genre\", \n",
    "              data=df,\n",
    "              order = df[\"genre\"].value_counts().iloc[:20].index)\n",
    "plt.title(\"Histogramme du genre des arbres, libellé latin\", size=17)\n",
    "ax.set( xlabel=\"Genre d'arbres\",ylabel=\"Nombre d'arbres\")\n",
    "plt.yticks(size=15)\n",
    "plt.xticks(rotation=60,size=15)"
   ]
  },
  {
   "cell_type": "markdown",
   "metadata": {
    "slideshow": {
     "slide_type": "slide"
    }
   },
   "source": [
    "## Libellé des arbres en français"
   ]
  },
  {
   "cell_type": "code",
   "execution_count": null,
   "metadata": {
    "slideshow": {
     "slide_type": "fragment"
    }
   },
   "outputs": [],
   "source": [
    "df[['libelle_francais','id']].groupby(['libelle_francais']).agg(['count'])"
   ]
  },
  {
   "cell_type": "code",
   "execution_count": null,
   "metadata": {
    "slideshow": {
     "slide_type": "subslide"
    }
   },
   "outputs": [],
   "source": [
    "fig,ax=plt.subplots(1,1, figsize = (15,6))\n",
    "sns.countplot( x=\"libelle_francais\", \n",
    "              data=df,\n",
    "              order = df[\"libelle_francais\"].value_counts().iloc[:20].index)\n",
    "plt.title(\"Histogramme du genre des arbres, libellé français\", size=17)\n",
    "ax.set( xlabel=\"Genre d'arbres\",ylabel=\"Nombre d'arbres\")\n",
    "plt.yticks(size=15)\n",
    "plt.xticks(rotation=60,size=15)"
   ]
  },
  {
   "cell_type": "markdown",
   "metadata": {
    "slideshow": {
     "slide_type": "slide"
    }
   },
   "source": [
    "## Exemples d'analyse bivarié "
   ]
  },
  {
   "cell_type": "code",
   "execution_count": null,
   "metadata": {
    "slideshow": {
     "slide_type": "fragment"
    }
   },
   "outputs": [],
   "source": [
    "plt.style.use('seaborn-whitegrid')\n",
    "plt.rcParams.update({ 'font.size' : 15})\n",
    "fig,ax=plt.subplots(1,1, figsize = (15,6))\n",
    "plt.title('Hauteurs et circonférences des arbres',size=18)\n",
    "sns.lineplot( x='hauteur_m',y='circonference_cm', data=df[df.hauteur_m>0], label = 'Arbres'\n",
    "             ,err_style=\"band\", color='green',legend=\"full\")\n",
    "ax.set( xlabel=\"Hauteur des arbres (m)\",ylabel=\"Circonférence (cm)\")"
   ]
  },
  {
   "cell_type": "markdown",
   "metadata": {
    "slideshow": {
     "slide_type": "slide"
    }
   },
   "source": [
    "### Boîte à Moustache\n"
   ]
  },
  {
   "cell_type": "markdown",
   "metadata": {
    "slideshow": {
     "slide_type": "fragment"
    }
   },
   "source": [
    "> Une *boîte à moustaches* montre la répartition des données quantitatives d'une manière qui facilite la comparaison entre les variables. \n",
    "> Elle permet de représenter la médiane, les quartiles et \n",
    ">les données aberrantes (outliers)."
   ]
  },
  {
   "cell_type": "code",
   "execution_count": null,
   "metadata": {
    "slideshow": {
     "slide_type": "subslide"
    }
   },
   "outputs": [],
   "source": [
    "fig,ax=plt.subplots(1,1, figsize = (15,6))\n",
    "fig=sns.boxplot(y= 'hauteur_m', x= 'genre' , data = df,order = df[\"genre\"].value_counts().iloc[:20].index)\n",
    "plt.title(\"IQR du genre d'arbre et hauteurs\", size=18)\n",
    "ax.set( xlabel=\"Genre d'arbres\",ylabel=\"Hauteur des arbres (m)\")\n",
    "plt.yticks(size=15)\n",
    "plt.xticks(rotation=60,size=15)"
   ]
  },
  {
   "cell_type": "markdown",
   "metadata": {
    "slideshow": {
     "slide_type": "slide"
    }
   },
   "source": [
    "# Merci de votre écoute  \n",
    "  \n",
    "  \n",
    "  \n",
    "\n",
    "\n"
   ]
  },
  {
   "cell_type": "markdown",
   "metadata": {
    "slideshow": {
     "slide_type": "fragment"
    }
   },
   "source": [
    "> # Avez-vous des Questions ?"
   ]
  }
 ],
 "metadata": {
  "celltoolbar": "Diaporama",
  "kernelspec": {
   "display_name": "Python 3",
   "language": "python",
   "name": "python3"
  },
  "language_info": {
   "codemirror_mode": {
    "name": "ipython",
    "version": 3
   },
   "file_extension": ".py",
   "mimetype": "text/x-python",
   "name": "python",
   "nbconvert_exporter": "python",
   "pygments_lexer": "ipython3",
   "version": "3.8.3"
  }
 },
 "nbformat": 4,
 "nbformat_minor": 4
}
