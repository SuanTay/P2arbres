{
 "cells": [
  {
   "cell_type": "markdown",
   "metadata": {
    "slideshow": {
     "slide_type": "slide"
    }
   },
   "source": [
    "# P2 Smart City\n",
    "> Presentation  \n",
    "> du  \n",
    "> Proj  "
   ]
  },
  {
   "cell_type": "markdown",
   "metadata": {
    "slideshow": {
     "slide_type": "slide"
    }
   },
   "source": [
    "## Environnement virtuel  \n",
    "  \n",
    "> Environement utiliser : *p2smartcity*\n",
    " ![image](https://drive.google.com/uc?id=1k0XrIPui99h-smuGSReRHnVWKKyTkrxB)"
   ]
  },
  {
   "cell_type": "markdown",
   "metadata": {
    "slideshow": {
     "slide_type": "slide"
    }
   },
   "source": [
    "## Importation des librairies python spécialisées"
   ]
  },
  {
   "cell_type": "code",
   "execution_count": null,
   "metadata": {
    "slideshow": {
     "slide_type": "subslide"
    }
   },
   "outputs": [],
   "source": [
    "%matplotlib inline\n",
    "\n",
    "\n",
    "import pandas as pd\n",
    "import numpy as np\n",
    "import matplotlib.pyplot as plt\n",
    "import seaborn as sns"
   ]
  },
  {
   "cell_type": "code",
   "execution_count": null,
   "metadata": {
    "slideshow": {
     "slide_type": "subslide"
    }
   },
   "outputs": [],
   "source": [
    "df = pd.read_csv('p2-arbres-fr.csv', sep=';')"
   ]
  },
  {
   "cell_type": "markdown",
   "metadata": {
    "slideshow": {
     "slide_type": "slide"
    }
   },
   "source": [
    "# Présentation générale du jeu de données"
   ]
  },
  {
   "cell_type": "markdown",
   "metadata": {
    "slideshow": {
     "slide_type": "slide"
    }
   },
   "source": [
    "## Brève description du jeu de donnée"
   ]
  },
  {
   "cell_type": "code",
   "execution_count": null,
   "metadata": {
    "slideshow": {
     "slide_type": "subslide"
    }
   },
   "outputs": [],
   "source": [
    "df.info()"
   ]
  },
  {
   "cell_type": "markdown",
   "metadata": {
    "slideshow": {
     "slide_type": "slide"
    }
   },
   "source": [
    "## Calcules des indicateurs statistiques basiques (moyenne et écart-type)  pour les différentes colonnes\n"
   ]
  },
  {
   "cell_type": "markdown",
   "metadata": {
    "slideshow": {
     "slide_type": "subslide"
    }
   },
   "source": [
    "### Nombre de colonnes et de lignes"
   ]
  },
  {
   "cell_type": "code",
   "execution_count": null,
   "metadata": {
    "slideshow": {
     "slide_type": "subslide"
    }
   },
   "outputs": [],
   "source": [
    "df.shape"
   ]
  },
  {
   "cell_type": "markdown",
   "metadata": {
    "slideshow": {
     "slide_type": "skip"
    }
   },
   "source": [
    "### Vision Courte :"
   ]
  },
  {
   "cell_type": "code",
   "execution_count": null,
   "metadata": {
    "slideshow": {
     "slide_type": "skip"
    }
   },
   "outputs": [],
   "source": [
    "df.describe()"
   ]
  },
  {
   "cell_type": "markdown",
   "metadata": {
    "slideshow": {
     "slide_type": "skip"
    }
   },
   "source": [
    "### Vision longue :"
   ]
  },
  {
   "cell_type": "code",
   "execution_count": null,
   "metadata": {
    "slideshow": {
     "slide_type": "skip"
    }
   },
   "outputs": [],
   "source": [
    "df.describe(include='all')"
   ]
  },
  {
   "cell_type": "markdown",
   "metadata": {
    "slideshow": {
     "slide_type": "slide"
    }
   },
   "source": [
    "#### Enumération des colonnes"
   ]
  },
  {
   "cell_type": "code",
   "execution_count": null,
   "metadata": {
    "slideshow": {
     "slide_type": "subslide"
    }
   },
   "outputs": [],
   "source": [
    "df.columns"
   ]
  },
  {
   "cell_type": "markdown",
   "metadata": {
    "slideshow": {
     "slide_type": "skip"
    }
   },
   "source": [
    "#### Type de chaque colonne :"
   ]
  },
  {
   "cell_type": "code",
   "execution_count": null,
   "metadata": {
    "slideshow": {
     "slide_type": "skip"
    }
   },
   "outputs": [],
   "source": [
    "df.dtypes"
   ]
  },
  {
   "cell_type": "markdown",
   "metadata": {
    "slideshow": {
     "slide_type": "slide"
    }
   },
   "source": [
    "## Comparer l'ordre de grandeur des grandeurs statistiques des différentes colonnes"
   ]
  },
  {
   "cell_type": "code",
   "execution_count": null,
   "metadata": {
    "slideshow": {
     "slide_type": "subslide"
    }
   },
   "outputs": [],
   "source": [
    "df.describe()"
   ]
  },
  {
   "cell_type": "code",
   "execution_count": null,
   "metadata": {
    "slideshow": {
     "slide_type": "subslide"
    }
   },
   "outputs": [],
   "source": [
    "print('cette donnée : max hauteur d\\'arbre est trop grande : %s m.' % max(df.hauteur_m))\n",
    "print('Ainsi que le maximun de la circonference : %s cm' % max(df.circonference_cm))"
   ]
  },
  {
   "cell_type": "markdown",
   "metadata": {
    "slideshow": {
     "slide_type": "slide"
    }
   },
   "source": [
    "# Démarche méthodologique d’analyse de données"
   ]
  },
  {
   "cell_type": "markdown",
   "metadata": {
    "slideshow": {
     "slide_type": "slide"
    }
   },
   "source": [
    "##  Données manquantes :"
   ]
  },
  {
   "cell_type": "code",
   "execution_count": null,
   "metadata": {
    "slideshow": {
     "slide_type": "skip"
    }
   },
   "outputs": [],
   "source": [
    "df.isnull().any()\n",
    "# False n'a pas de null\n",
    "# True à des null\n",
    "# A traiter \n",
    "df.columns[df.isnull().any()]"
   ]
  },
  {
   "cell_type": "markdown",
   "metadata": {
    "slideshow": {
     "slide_type": "subslide"
    }
   },
   "source": [
    "## Nombres des données manquantes :"
   ]
  },
  {
   "cell_type": "code",
   "execution_count": null,
   "metadata": {
    "slideshow": {
     "slide_type": "subslide"
    }
   },
   "outputs": [],
   "source": [
    "df.isnull().sum()"
   ]
  },
  {
   "cell_type": "code",
   "execution_count": null,
   "metadata": {
    "slideshow": {
     "slide_type": "subslide"
    }
   },
   "outputs": [],
   "source": [
    "df.shape"
   ]
  },
  {
   "cell_type": "markdown",
   "metadata": {
    "slideshow": {
     "slide_type": "slide"
    }
   },
   "source": [
    "### Suppression des données manquantes"
   ]
  },
  {
   "cell_type": "code",
   "execution_count": null,
   "metadata": {
    "slideshow": {
     "slide_type": "subslide"
    }
   },
   "outputs": [],
   "source": [
    "df.dropna(subset=['libelle_francais','espece','domanialite','genre'],inplace=True)"
   ]
  },
  {
   "cell_type": "code",
   "execution_count": null,
   "metadata": {
    "slideshow": {
     "slide_type": "subslide"
    }
   },
   "outputs": [],
   "source": [
    "df.shape"
   ]
  },
  {
   "cell_type": "markdown",
   "metadata": {
    "slideshow": {
     "slide_type": "slide"
    }
   },
   "source": [
    "### Suppressions de doublons"
   ]
  },
  {
   "cell_type": "code",
   "execution_count": null,
   "metadata": {
    "slideshow": {
     "slide_type": "subslide"
    }
   },
   "outputs": [],
   "source": [
    "df.drop_duplicates(keep=False, inplace=True)"
   ]
  },
  {
   "cell_type": "code",
   "execution_count": null,
   "metadata": {
    "slideshow": {
     "slide_type": "subslide"
    }
   },
   "outputs": [],
   "source": [
    "df.shape"
   ]
  },
  {
   "cell_type": "markdown",
   "metadata": {
    "slideshow": {
     "slide_type": "skip"
    }
   },
   "source": [
    "# Identification des valeurs aberrantes avec la règle 1,5 x écart interquartile\n",
    "https://fr.khanacademy.org/math/statistics-probability/summarizing-quantitative-data/box-whisker-plots/a/identifying-outliers-iqr-rule\n",
    "    \n",
    "https://www.it-swarm.dev/fr/python/detecter-et-exclure-les-valeurs-aberrantes-dans-le-cadre-de-donnees-pandas/1046331960/"
   ]
  },
  {
   "cell_type": "markdown",
   "metadata": {
    "slideshow": {
     "slide_type": "slide"
    }
   },
   "source": [
    "### Valeur aberrantes avec la régle 1,5 écart interquartile\n",
    "> L’écart interquartile est une mesure de dispersion qui s'obtient en faisant la différence entre le troisième et le premier quartile :\n",
    "> EI = Q₃ - Q₁.\n",
    "> L'EI est un estimateur statistique robuste."
   ]
  },
  {
   "cell_type": "code",
   "execution_count": null,
   "metadata": {
    "slideshow": {
     "slide_type": "subslide"
    }
   },
   "outputs": [],
   "source": [
    "def remove_outliers(df, q=0.05):\n",
    "    '''IQR\n",
    "\n",
    "    Cette fonction IQR.range interquartile\n",
    "\n",
    "    Parameters\n",
    "    ----------\n",
    "    df : dataframe \n",
    "    q : float\n",
    "        Supprime les valeurs aberrantes selon l'IQR.\n",
    "\n",
    "    Returns\n",
    "    -------\n",
    "    df\n",
    "        un df (True/False) avec les valeurs qui sont dans le IQR\n",
    "    '''\n",
    "    upper = df.quantile(1-q)\n",
    "    lower = df.quantile(q)\n",
    "    \n",
    "    mask = (df < upper) & (df > lower)\n",
    "    return mask\n",
    "print(\"Nombre d'enregistrement initial                     : %s \\nnombre de colonnes : %s \" % df.shape)\n",
    "#hauteur\n",
    "df=df[remove_outliers(df['hauteur_m'],0.015)]\n",
    "print(\"Nombre d'enregistrement après IQR sur la hauteur    : %s \\nnombre de colonnes : %s \" % df.shape)\n",
    "#circonference\n",
    "df=df[remove_outliers(df['circonference_cm'],0.015)]\n",
    "print(\"Nombre d'enregistrement après IQR sur circonference : %s \\nnombre de colonnes : %s \" % df.shape)"
   ]
  },
  {
   "cell_type": "markdown",
   "metadata": {
    "slideshow": {
     "slide_type": "slide"
    }
   },
   "source": [
    "# Synthèse de l'analyse de données"
   ]
  },
  {
   "cell_type": "markdown",
   "metadata": {
    "slideshow": {
     "slide_type": "slide"
    }
   },
   "source": [
    "# Analyse univarié "
   ]
  },
  {
   "cell_type": "markdown",
   "metadata": {
    "slideshow": {
     "slide_type": "slide"
    }
   },
   "source": [
    "## Variable discrète"
   ]
  },
  {
   "cell_type": "markdown",
   "metadata": {
    "slideshow": {
     "slide_type": "slide"
    }
   },
   "source": [
    "## Hauteur"
   ]
  },
  {
   "cell_type": "code",
   "execution_count": null,
   "metadata": {
    "slideshow": {
     "slide_type": "subslide"
    }
   },
   "outputs": [],
   "source": [
    "#avec seaborn\n",
    "plt.style.use('seaborn-whitegrid')\n",
    "fig,ax=plt.subplots(1,1, figsize = (15,6))\n",
    "plt.title(\"Histogramme hauteur des arbres\")\n",
    "sns.countplot( x='hauteur_m', data=df)\n",
    "ax.set( ylabel=\"Nombre d'arbres\",xlabel=\"Hauteur des arbres (m)\")"
   ]
  },
  {
   "cell_type": "markdown",
   "metadata": {
    "slideshow": {
     "slide_type": "slide"
    }
   },
   "source": [
    "## Circonférence "
   ]
  },
  {
   "cell_type": "code",
   "execution_count": null,
   "metadata": {
    "slideshow": {
     "slide_type": "subslide"
    }
   },
   "outputs": [],
   "source": [
    "# avec Matplotlib\n",
    "plt.subplots(1,1, figsize = (8,6))\n",
    "\n",
    "#l'histogramme sans bins\n",
    "df.circonference_cm.hist()\n",
    "#titre du tableau\n",
    "plt.title(\"Histogramme circonférence\",size=15)\n",
    "plt.xlabel(\"circonférence (cm)\",size=15)\n",
    "plt.ylabel(\"Nombre d'arbres\",size=15)\n",
    "plt.show()"
   ]
  },
  {
   "cell_type": "markdown",
   "metadata": {
    "slideshow": {
     "slide_type": "slide"
    }
   },
   "source": [
    "## Type d'emplacement "
   ]
  },
  {
   "cell_type": "code",
   "execution_count": null,
   "metadata": {
    "slideshow": {
     "slide_type": "subslide"
    }
   },
   "outputs": [],
   "source": [
    "#l'histogramme \n",
    "df.type_emplacement.hist()\n",
    "#titre du tableau\n",
    "plt.title(\"Histogramme type d'emplacement\",size=15)\n",
    "plt.xlabel(\"Type d'emplacement\",size=15)\n",
    "plt.ylabel(\"Nombre d'arbres\",size=15)"
   ]
  },
  {
   "cell_type": "markdown",
   "metadata": {
    "slideshow": {
     "slide_type": "slide"
    }
   },
   "source": [
    "## Variable de catégorie"
   ]
  },
  {
   "cell_type": "markdown",
   "metadata": {
    "slideshow": {
     "slide_type": "slide"
    }
   },
   "source": [
    "## Domanialite"
   ]
  },
  {
   "cell_type": "code",
   "execution_count": null,
   "metadata": {
    "slideshow": {
     "slide_type": "subslide"
    }
   },
   "outputs": [],
   "source": [
    "df[['domanialite']].groupby('domanialite')['domanialite'].count().sort_values(ascending=False)"
   ]
  },
  {
   "cell_type": "code",
   "execution_count": null,
   "metadata": {
    "slideshow": {
     "slide_type": "subslide"
    }
   },
   "outputs": [],
   "source": [
    "plt.style.use('seaborn-whitegrid')\n",
    "fig,ax=plt.subplots(1,1, figsize = (8,6))\n",
    "plt.title(\"Histogramme hauteur des arbres\")\n",
    "sns.countplot( y='domanialite', data=df,order = df['domanialite'].value_counts().index)\n",
    "ax.set( ylabel=\"Nombre d'arbres\",xlabel=\"Domanialité par type\")\n",
    "\n"
   ]
  },
  {
   "cell_type": "markdown",
   "metadata": {
    "slideshow": {
     "slide_type": "slide"
    }
   },
   "source": [
    "## Arrondissement"
   ]
  },
  {
   "cell_type": "code",
   "execution_count": null,
   "metadata": {
    "slideshow": {
     "slide_type": "subslide"
    }
   },
   "outputs": [],
   "source": [
    "df[['arrondissement']].groupby('arrondissement')['arrondissement'].count().sort_values(ascending=False)"
   ]
  },
  {
   "cell_type": "code",
   "execution_count": null,
   "metadata": {
    "slideshow": {
     "slide_type": "subslide"
    }
   },
   "outputs": [],
   "source": [
    "fig,ax=plt.subplots(1,1, figsize = (15,6))\n",
    "sns.countplot( y='arrondissement', data=df, order = df['arrondissement'].value_counts().index)\n",
    "plt.title(\"Histogramme nombre d'arbres par arrondissement\")\n",
    "ax.set( xlabel=\"Nombre d'arbres\",ylabel=\"Arrondissement\")\n",
    "plt.yticks(size=12)"
   ]
  },
  {
   "cell_type": "markdown",
   "metadata": {
    "slideshow": {
     "slide_type": "slide"
    }
   },
   "source": [
    "## Libelle des arbres en francais"
   ]
  },
  {
   "cell_type": "code",
   "execution_count": null,
   "metadata": {
    "slideshow": {
     "slide_type": "subslide"
    }
   },
   "outputs": [],
   "source": [
    "df[['libelle_francais','id']].groupby(['libelle_francais']).agg(['count'])"
   ]
  },
  {
   "cell_type": "code",
   "execution_count": null,
   "metadata": {
    "slideshow": {
     "slide_type": "subslide"
    }
   },
   "outputs": [],
   "source": [
    "fig,ax=plt.subplots(1,1, figsize = (15,6))\n",
    "sns.countplot( x=\"libelle_francais\", \n",
    "              data=df,\n",
    "              order = df[\"libelle_francais\"].value_counts().iloc[:20].index)\n",
    "plt.title(\"Histogramme du genre des arbres, libellé français\", size=17)\n",
    "ax.set( xlabel=\"Genre d'arbres\",ylabel=\"Nombre d'arbres\")\n",
    "plt.yticks(size=15)\n",
    "plt.xticks(rotation=60,size=15)"
   ]
  },
  {
   "cell_type": "markdown",
   "metadata": {
    "slideshow": {
     "slide_type": "slide"
    }
   },
   "source": [
    "## Genre"
   ]
  },
  {
   "cell_type": "code",
   "execution_count": null,
   "metadata": {
    "slideshow": {
     "slide_type": "subslide"
    }
   },
   "outputs": [],
   "source": [
    "df[['genre','id']].groupby(['genre']).agg(['count']).head()"
   ]
  },
  {
   "cell_type": "code",
   "execution_count": null,
   "metadata": {
    "slideshow": {
     "slide_type": "subslide"
    }
   },
   "outputs": [],
   "source": [
    "fig,ax=plt.subplots(1,1, figsize = (15,6))\n",
    "sns.countplot( x=\"genre\", \n",
    "              data=df,\n",
    "              order = df[\"genre\"].value_counts().iloc[:20].index)\n",
    "plt.title(\"Histogramme du genre des arbres, libellé latin\", size=17)\n",
    "ax.set( xlabel=\"Genre d'arbres\",ylabel=\"Nombre d'arbres\")\n",
    "plt.yticks(size=15)\n",
    "plt.xticks(rotation=60,size=15)"
   ]
  },
  {
   "cell_type": "markdown",
   "metadata": {
    "slideshow": {
     "slide_type": "slide"
    }
   },
   "source": [
    "## Espece"
   ]
  },
  {
   "cell_type": "code",
   "execution_count": null,
   "metadata": {
    "slideshow": {
     "slide_type": "subslide"
    }
   },
   "outputs": [],
   "source": [
    "df[['espece','id']].groupby(['espece']).agg(['count'])"
   ]
  },
  {
   "cell_type": "code",
   "execution_count": null,
   "metadata": {
    "slideshow": {
     "slide_type": "subslide"
    }
   },
   "outputs": [],
   "source": [
    "fig,ax=plt.subplots(1,1, figsize = (15,6))\n",
    "sns.countplot( x=\"espece\", \n",
    "              data=df,\n",
    "              order = df[\"espece\"].value_counts().iloc[:20].index)\n",
    "plt.title(\"Histogramme des espéces d'arbres\", size=17)\n",
    "ax.set( xlabel=\"Espése d'arbres\",ylabel=\"Nombre d'arbres\")\n",
    "plt.yticks(size=15)\n",
    "plt.xticks(rotation=60,size=15)"
   ]
  },
  {
   "cell_type": "markdown",
   "metadata": {
    "slideshow": {
     "slide_type": "slide"
    }
   },
   "source": [
    "### Variété"
   ]
  },
  {
   "cell_type": "code",
   "execution_count": null,
   "metadata": {
    "slideshow": {
     "slide_type": "subslide"
    }
   },
   "outputs": [],
   "source": [
    "df[['variete','id']].groupby(['variete']).agg(['count'])"
   ]
  },
  {
   "cell_type": "code",
   "execution_count": null,
   "metadata": {
    "slideshow": {
     "slide_type": "subslide"
    }
   },
   "outputs": [],
   "source": [
    "fig,ax=plt.subplots(1,1, figsize = (15,6))\n",
    "sns.countplot( y=\"variete\", \n",
    "              data=df,\n",
    "              order = df[\"variete\"].value_counts().iloc[:20].index)\n",
    "plt.title(\"Histogramme des variétéz d'arbres\", size=17)\n",
    "ax.set( xlabel=\"Variétés d'arbres\",ylabel=\"Nombre d'arbres\")\n",
    "plt.yticks(size=15)\n",
    "plt.xticks(rotation=60,size=15)"
   ]
  },
  {
   "cell_type": "markdown",
   "metadata": {
    "slideshow": {
     "slide_type": "slide"
    }
   },
   "source": [
    "## Analyse bivarié "
   ]
  },
  {
   "cell_type": "code",
   "execution_count": null,
   "metadata": {
    "slideshow": {
     "slide_type": "subslide"
    }
   },
   "outputs": [],
   "source": [
    "\n",
    "fig,ax=plt.subplots(1,1, figsize = (15,6))\n",
    "masksns.boxplot(y= 'hauteur_m', x= 'genre' , data = df,order = df[\"genre\"].value_counts().iloc[:20].index)\n",
    "plt.xticks(rotation=60)\n",
    "\n",
    "plt.title(\"IQR genre arbre\", size=17)\n",
    "ax.set( xlabel=\"Genre d'arbres\",ylabel=\"Hauteur des arbres (m)\")\n",
    "plt.yticks(size=15)\n",
    "plt.xticks(rotation=60,size=15)"
   ]
  },
  {
   "cell_type": "code",
   "execution_count": null,
   "metadata": {},
   "outputs": [],
   "source": []
  }
 ],
 "metadata": {
  "celltoolbar": "Diaporama",
  "kernelspec": {
   "display_name": "Python 3",
   "language": "python",
   "name": "python3"
  },
  "language_info": {
   "codemirror_mode": {
    "name": "ipython",
    "version": 3
   },
   "file_extension": ".py",
   "mimetype": "text/x-python",
   "name": "python",
   "nbconvert_exporter": "python",
   "pygments_lexer": "ipython3",
   "version": "3.8.3"
  }
 },
 "nbformat": 4,
 "nbformat_minor": 4
}
