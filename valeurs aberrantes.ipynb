{
 "cells": [
  {
   "cell_type": "markdown",
   "metadata": {},
   "source": [
    "# test01"
   ]
  },
  {
   "cell_type": "code",
   "execution_count": 4,
   "metadata": {},
   "outputs": [],
   "source": [
    "import pandas as pd\n",
    "import numpy as np"
   ]
  },
  {
   "cell_type": "code",
   "execution_count": 7,
   "metadata": {},
   "outputs": [
    {
     "data": {
      "text/html": [
       "<div>\n",
       "<style scoped>\n",
       "    .dataframe tbody tr th:only-of-type {\n",
       "        vertical-align: middle;\n",
       "    }\n",
       "\n",
       "    .dataframe tbody tr th {\n",
       "        vertical-align: top;\n",
       "    }\n",
       "\n",
       "    .dataframe thead th {\n",
       "        text-align: right;\n",
       "    }\n",
       "</style>\n",
       "<table border=\"1\" class=\"dataframe\">\n",
       "  <thead>\n",
       "    <tr style=\"text-align: right;\">\n",
       "      <th></th>\n",
       "      <th>Data</th>\n",
       "    </tr>\n",
       "  </thead>\n",
       "  <tbody>\n",
       "    <tr>\n",
       "      <th>0</th>\n",
       "      <td>0.053568</td>\n",
       "    </tr>\n",
       "    <tr>\n",
       "      <th>1</th>\n",
       "      <td>-0.884181</td>\n",
       "    </tr>\n",
       "    <tr>\n",
       "      <th>2</th>\n",
       "      <td>-0.801474</td>\n",
       "    </tr>\n",
       "    <tr>\n",
       "      <th>3</th>\n",
       "      <td>-0.232773</td>\n",
       "    </tr>\n",
       "    <tr>\n",
       "      <th>4</th>\n",
       "      <td>-0.005136</td>\n",
       "    </tr>\n",
       "  </tbody>\n",
       "</table>\n",
       "</div>"
      ],
      "text/plain": [
       "       Data\n",
       "0  0.053568\n",
       "1 -0.884181\n",
       "2 -0.801474\n",
       "3 -0.232773\n",
       "4 -0.005136"
      ]
     },
     "execution_count": 7,
     "metadata": {},
     "output_type": "execute_result"
    }
   ],
   "source": [
    "df = pd.DataFrame({'Data':np.random.normal(size=200)})\n",
    "# example dataset of normally distributed data.\n",
    "df.head()"
   ]
  },
  {
   "cell_type": "code",
   "execution_count": 9,
   "metadata": {},
   "outputs": [
    {
     "data": {
      "text/html": [
       "<div>\n",
       "<style scoped>\n",
       "    .dataframe tbody tr th:only-of-type {\n",
       "        vertical-align: middle;\n",
       "    }\n",
       "\n",
       "    .dataframe tbody tr th {\n",
       "        vertical-align: top;\n",
       "    }\n",
       "\n",
       "    .dataframe thead th {\n",
       "        text-align: right;\n",
       "    }\n",
       "</style>\n",
       "<table border=\"1\" class=\"dataframe\">\n",
       "  <thead>\n",
       "    <tr style=\"text-align: right;\">\n",
       "      <th></th>\n",
       "      <th>Data</th>\n",
       "    </tr>\n",
       "  </thead>\n",
       "  <tbody>\n",
       "    <tr>\n",
       "      <th>0</th>\n",
       "      <td>0.053568</td>\n",
       "    </tr>\n",
       "    <tr>\n",
       "      <th>1</th>\n",
       "      <td>-0.884181</td>\n",
       "    </tr>\n",
       "    <tr>\n",
       "      <th>2</th>\n",
       "      <td>-0.801474</td>\n",
       "    </tr>\n",
       "    <tr>\n",
       "      <th>3</th>\n",
       "      <td>-0.232773</td>\n",
       "    </tr>\n",
       "    <tr>\n",
       "      <th>4</th>\n",
       "      <td>-0.005136</td>\n",
       "    </tr>\n",
       "  </tbody>\n",
       "</table>\n",
       "</div>"
      ],
      "text/plain": [
       "       Data\n",
       "0  0.053568\n",
       "1 -0.884181\n",
       "2 -0.801474\n",
       "3 -0.232773\n",
       "4 -0.005136"
      ]
     },
     "execution_count": 9,
     "metadata": {},
     "output_type": "execute_result"
    }
   ],
   "source": [
    "df[np.abs(df.Data-df.Data.mean()) <= (3*df.Data.std())].head()\n",
    "# keep only the ones that are within +3 to -3 standard deviations in the column 'Data'."
   ]
  },
  {
   "cell_type": "code",
   "execution_count": 10,
   "metadata": {},
   "outputs": [
    {
     "data": {
      "text/html": [
       "<div>\n",
       "<style scoped>\n",
       "    .dataframe tbody tr th:only-of-type {\n",
       "        vertical-align: middle;\n",
       "    }\n",
       "\n",
       "    .dataframe tbody tr th {\n",
       "        vertical-align: top;\n",
       "    }\n",
       "\n",
       "    .dataframe thead th {\n",
       "        text-align: right;\n",
       "    }\n",
       "</style>\n",
       "<table border=\"1\" class=\"dataframe\">\n",
       "  <thead>\n",
       "    <tr style=\"text-align: right;\">\n",
       "      <th></th>\n",
       "      <th>Data</th>\n",
       "    </tr>\n",
       "  </thead>\n",
       "  <tbody>\n",
       "    <tr>\n",
       "      <th>0</th>\n",
       "      <td>0.053568</td>\n",
       "    </tr>\n",
       "    <tr>\n",
       "      <th>1</th>\n",
       "      <td>-0.884181</td>\n",
       "    </tr>\n",
       "    <tr>\n",
       "      <th>2</th>\n",
       "      <td>-0.801474</td>\n",
       "    </tr>\n",
       "    <tr>\n",
       "      <th>3</th>\n",
       "      <td>-0.232773</td>\n",
       "    </tr>\n",
       "    <tr>\n",
       "      <th>4</th>\n",
       "      <td>-0.005136</td>\n",
       "    </tr>\n",
       "  </tbody>\n",
       "</table>\n",
       "</div>"
      ],
      "text/plain": [
       "       Data\n",
       "0  0.053568\n",
       "1 -0.884181\n",
       "2 -0.801474\n",
       "3 -0.232773\n",
       "4 -0.005136"
      ]
     },
     "execution_count": 10,
     "metadata": {},
     "output_type": "execute_result"
    }
   ],
   "source": [
    "df[~(np.abs(df.Data-df.Data.mean()) > (3*df.Data.std()))].head()\n",
    "# or if you prefer the other way around"
   ]
  },
  {
   "cell_type": "code",
   "execution_count": null,
   "metadata": {},
   "outputs": [],
   "source": [
    "## pour tous le df\n",
    "df = pd.read_csv('p2-arbres-fr.csv', sep=';')\n",
    "from scipy import stats\n",
    "df[(np.abs(stats.zscore(df)) < 3).all(axis=1)]"
   ]
  },
  {
   "cell_type": "code",
   "execution_count": 3,
   "metadata": {},
   "outputs": [
    {
     "name": "stdout",
     "output_type": "stream",
     "text": [
      "   train  y\n",
      "2      2  0\n",
      "3      3  1\n",
      "4      4  1\n",
      "5      5  0\n",
      "6      6  0\n",
      "7      7  1\n",
      "8      8  1\n"
     ]
    }
   ],
   "source": [
    "import pandas as pd\n",
    "\n",
    "def remove_outliers(df, q=0.05):\n",
    "    upper = df.quantile(1-q)\n",
    "    lower = df.quantile(q)\n",
    "    mask = (df < upper) & (df > lower)\n",
    "    return mask\n",
    "\n",
    "t = pd.DataFrame({'train': [1,1,2,3,4,5,6,7,8,9,9],\n",
    "                  'y': [1,0,0,1,1,0,0,1,1,1,0]})\n",
    "\n",
    "mask = remove_outliers(t['train'], 0.1)\n",
    "\n",
    "print(t[mask])"
   ]
  },
  {
   "cell_type": "markdown",
   "metadata": {},
   "source": [
    "# Exemple de données avec 2 groupes: G1: Groupe 1. G2: Groupe 2"
   ]
  },
  {
   "cell_type": "code",
   "execution_count": 5,
   "metadata": {},
   "outputs": [],
   "source": [
    "from io import StringIO\n",
    "import pandas as pd\n",
    "#pandas config\n",
    "pd.set_option('display.max_rows', 20)"
   ]
  },
  {
   "cell_type": "code",
   "execution_count": 6,
   "metadata": {},
   "outputs": [],
   "source": [
    "TESTDATA = StringIO(\"\"\"G1;G2;Value\n",
    "1;A;1.6\n",
    "1;A;5.1\n",
    "1;A;7.1\n",
    "1;A;8.1\n",
    "\n",
    "1;B;21.1\n",
    "1;B;22.1\n",
    "1;B;24.1\n",
    "1;B;30.6\n",
    "\n",
    "2;A;40.6\n",
    "2;A;51.1\n",
    "2;A;52.1\n",
    "2;A;60.6\n",
    "\n",
    "2;B;80.1\n",
    "2;B;70.6\n",
    "2;B;90.6\n",
    "2;B;85.1\n",
    "\"\"\")"
   ]
  },
  {
   "cell_type": "code",
   "execution_count": 7,
   "metadata": {},
   "outputs": [],
   "source": [
    "df = pd.read_csv(TESTDATA, sep=\";\")"
   ]
  },
  {
   "cell_type": "code",
   "execution_count": 8,
   "metadata": {},
   "outputs": [],
   "source": [
    "stds = 1.0\n",
    "outliers = df[['G1', 'G2', 'Value']].groupby(['G1','G2']).transform(\n",
    "           lambda group: (group - group.mean()).abs().div(group.std())) > stds"
   ]
  },
  {
   "cell_type": "code",
   "execution_count": 9,
   "metadata": {},
   "outputs": [],
   "source": [
    "dfv = df[outliers.Value == False]\n",
    "dfo = df[outliers.Value == True]"
   ]
  },
  {
   "cell_type": "code",
   "execution_count": 11,
   "metadata": {},
   "outputs": [
    {
     "name": "stdout",
     "output_type": "stream",
     "text": [
      "\n",
      "\n",
      "\n",
      "\n",
      "\n",
      " All values with decimal 1 are non-outliers. In the other hand, all values with 6 in the decimal are.\n",
      "\n",
      "Def DATA:\n",
      "    G1 G2  Value\n",
      "0    1  A    1.6\n",
      "1    1  A    5.1\n",
      "2    1  A    7.1\n",
      "3    1  A    8.1\n",
      "4    1  B   21.1\n",
      "5    1  B   22.1\n",
      "6    1  B   24.1\n",
      "7    1  B   30.6\n",
      "8    2  A   40.6\n",
      "9    2  A   51.1\n",
      "10   2  A   52.1\n",
      "11   2  A   60.6\n",
      "12   2  B   80.1\n",
      "13   2  B   70.6\n",
      "14   2  B   90.6\n",
      "15   2  B   85.1\n",
      "\n",
      "Filtred Values with 1.0 stds:\n",
      "    G1 G2  Value\n",
      "1    1  A    5.1\n",
      "2    1  A    7.1\n",
      "3    1  A    8.1\n",
      "4    1  B   21.1\n",
      "5    1  B   22.1\n",
      "6    1  B   24.1\n",
      "9    2  A   51.1\n",
      "10   2  A   52.1\n",
      "12   2  B   80.1\n",
      "15   2  B   85.1\n",
      "\n",
      "Outliers:\n",
      "    G1 G2  Value\n",
      "0    1  A    1.6\n",
      "7    1  B   30.6\n",
      "8    2  A   40.6\n",
      "11   2  A   60.6\n",
      "13   2  B   70.6\n",
      "14   2  B   90.6\n"
     ]
    }
   ],
   "source": [
    "print ('\\n'*5, 'All values with decimal 1 are non-outliers. In the other hand, all values with 6 in the decimal are.')\n",
    "print ('\\nDef DATA:\\n%s\\n\\nFiltred Values with %s stds:\\n%s\\n\\nOutliers:\\n%s' %(df, stds, dfv, dfo))"
   ]
  },
  {
   "cell_type": "code",
   "execution_count": null,
   "metadata": {},
   "outputs": [],
   "source": []
  }
 ],
 "metadata": {
  "kernelspec": {
   "display_name": "Python 3",
   "language": "python",
   "name": "python3"
  },
  "language_info": {
   "codemirror_mode": {
    "name": "ipython",
    "version": 3
   },
   "file_extension": ".py",
   "mimetype": "text/x-python",
   "name": "python",
   "nbconvert_exporter": "python",
   "pygments_lexer": "ipython3",
   "version": "3.7.6"
  }
 },
 "nbformat": 4,
 "nbformat_minor": 4
}
