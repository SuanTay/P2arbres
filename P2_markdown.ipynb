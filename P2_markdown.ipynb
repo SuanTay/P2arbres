{
 "cells": [
  {
   "cell_type": "markdown",
   "metadata": {},
   "source": [
    "# Un titre de niveau 1\n",
    "Voici un peu de texte pour présenter un markdown"
   ]
  },
  {
   "cell_type": "code",
   "execution_count": null,
   "metadata": {},
   "outputs": [],
   "source": [
    "# Un titre de niveau 1\n",
    "Voici un peu de texte pour présenter un markdown"
   ]
  },
  {
   "cell_type": "markdown",
   "metadata": {},
   "source": [
    "## titre de niveau 2\n",
    "**Ceci** est très important"
   ]
  },
  {
   "cell_type": "code",
   "execution_count": null,
   "metadata": {},
   "outputs": [],
   "source": [
    "## titre de niveau 2\n",
    "**Ceci** est très important"
   ]
  },
  {
   "cell_type": "markdown",
   "metadata": {},
   "source": [
    "pour aller à la ligne deux espace"
   ]
  },
  {
   "cell_type": "markdown",
   "metadata": {},
   "source": [
    "## autre titre de niveau 2\n",
    "Mais *cela* également !"
   ]
  },
  {
   "cell_type": "code",
   "execution_count": null,
   "metadata": {},
   "outputs": [],
   "source": [
    "## autre titre de niveau 2\n",
    "Mais *cela* également !"
   ]
  },
  {
   "cell_type": "markdown",
   "metadata": {},
   "source": [
    "It's very easy to make some words **bold** and other words *italic* with Markdown. \n",
    "You can even [link to Google!](http://google.com)"
   ]
  },
  {
   "cell_type": "code",
   "execution_count": null,
   "metadata": {},
   "outputs": [],
   "source": [
    "It's very easy to make some words **bold** and other words *italic* with Markdown. \n",
    "You can even [link to Google!](http://google.com)"
   ]
  },
  {
   "cell_type": "markdown",
   "metadata": {},
   "source": [
    "Voici du code :\n",
    "```\n",
    "    if (isAwesome){\n",
    "      return true\n",
    "    }\n",
    "```     "
   ]
  },
  {
   "cell_type": "markdown",
   "metadata": {},
   "source": [
    "Voici du code :\n",
    "```\n",
    "    if (isAwesome){\n",
    "      return true\n",
    "    }\n",
    "```     "
   ]
  },
  {
   "cell_type": "markdown",
   "metadata": {},
   "source": [
    "[@SuanTay](https://github.com/SuanTay)"
   ]
  },
  {
   "cell_type": "code",
   "execution_count": null,
   "metadata": {},
   "outputs": [],
   "source": [
    "[@SuanTay](https://github.com/SuanTay)"
   ]
  },
  {
   "cell_type": "markdown",
   "metadata": {},
   "source": [
    "guide https://guides.github.com/features/mastering-markdown/\n"
   ]
  },
  {
   "cell_type": "code",
   "execution_count": null,
   "metadata": {},
   "outputs": [],
   "source": [
    "## import from"
   ]
  },
  {
   "cell_type": "code",
   "execution_count": null,
   "metadata": {},
   "outputs": [],
   "source": [
    "from geometry import pi\n",
    "import geometry as geo"
   ]
  },
  {
   "cell_type": "markdown",
   "metadata": {},
   "source": [
    "# Random"
   ]
  },
  {
   "cell_type": "code",
   "execution_count": 5,
   "metadata": {},
   "outputs": [
    {
     "name": "stdout",
     "output_type": "stream",
     "text": [
      "0.5187181162467509\n",
      "0.20589851993103225\n",
      "0.23674029245222616\n"
     ]
    }
   ],
   "source": [
    "import random\n",
    "for i in range(3):\n",
    "    print(random.random())"
   ]
  },
  {
   "cell_type": "markdown",
   "metadata": {},
   "source": [
    "### int randint()"
   ]
  },
  {
   "cell_type": "code",
   "execution_count": 6,
   "metadata": {},
   "outputs": [
    {
     "name": "stdout",
     "output_type": "stream",
     "text": [
      "9\n",
      "9\n",
      "5\n"
     ]
    }
   ],
   "source": [
    "for i in range(3):\n",
    "    print(random.randint(5,10))"
   ]
  },
  {
   "cell_type": "markdown",
   "metadata": {},
   "source": [
    "## loi normale ou gaussienne"
   ]
  },
  {
   "cell_type": "code",
   "execution_count": 7,
   "metadata": {},
   "outputs": [
    {
     "name": "stdout",
     "output_type": "stream",
     "text": [
      "0.09156849193405235\n",
      "-1.135795015052205\n",
      "-0.6006094246643169\n"
     ]
    }
   ],
   "source": [
    "for i in range(3):\n",
    "    print(random.gauss(0,1))"
   ]
  },
  {
   "cell_type": "markdown",
   "metadata": {},
   "source": [
    "## Choix parmi un échantillon"
   ]
  },
  {
   "cell_type": "code",
   "execution_count": 13,
   "metadata": {},
   "outputs": [
    {
     "name": "stdout",
     "output_type": "stream",
     "text": [
      "five\n",
      "one\n",
      "four\n"
     ]
    }
   ],
   "source": [
    "l= ['one','two','three','four','five']\n",
    "\n",
    "for i in range(3):\n",
    "    print(random.choice(l))"
   ]
  },
  {
   "cell_type": "code",
   "execution_count": 17,
   "metadata": {},
   "outputs": [
    {
     "name": "stdout",
     "output_type": "stream",
     "text": [
      "['five', 'two']\n"
     ]
    }
   ],
   "source": [
    " print(random.choices(l,k=2))"
   ]
  },
  {
   "cell_type": "code",
   "execution_count": 18,
   "metadata": {},
   "outputs": [
    {
     "name": "stdout",
     "output_type": "stream",
     "text": [
      "['two', 'three', 'one']\n"
     ]
    }
   ],
   "source": [
    " print(random.choices(l,k=3))"
   ]
  },
  {
   "cell_type": "code",
   "execution_count": 20,
   "metadata": {},
   "outputs": [
    {
     "name": "stdout",
     "output_type": "stream",
     "text": [
      "16.40352340343266\n"
     ]
    }
   ],
   "source": [
    "import random\n",
    "\n",
    "n = rrandom.uniform(10,19)\n",
    "print(n)"
   ]
  },
  {
   "cell_type": "code",
   "execution_count": 21,
   "metadata": {},
   "outputs": [
    {
     "name": "stdout",
     "output_type": "stream",
     "text": [
      "['banana', 'apple', 'cherry']\n"
     ]
    }
   ],
   "source": [
    "import random\n",
    "\n",
    "mylist = [\"apple\", \"banana\", \"cherry\"]\n",
    "random.shuffle(mylist)\n",
    "\n",
    "print(mylist)"
   ]
  },
  {
   "cell_type": "code",
   "execution_count": 24,
   "metadata": {},
   "outputs": [
    {
     "data": {
      "text/plain": [
       "[105, 854, 840, 494, 865, 261, 292, 186, 768, 452]"
      ]
     },
     "execution_count": 24,
     "metadata": {},
     "output_type": "execute_result"
    }
   ],
   "source": [
    "# range(p) produit une suite d'entiers de 0 a p-1\n",
    "population = range(1000) \n",
    "\n",
    "# Nombre de tickets souhaités \n",
    "N = 10\n",
    "#random.choices(population, k=N)\n",
    "random.sample(population, N)"
   ]
  },
  {
   "cell_type": "code",
   "execution_count": 25,
   "metadata": {},
   "outputs": [],
   "source": [
    "tickets = []\n",
    "for n in range(N):\n",
    "    tickets.append(random.choice(population))"
   ]
  },
  {
   "cell_type": "code",
   "execution_count": 27,
   "metadata": {},
   "outputs": [
    {
     "data": {
      "text/plain": [
       "[640, 336, 775, 13, 554, 604, 774, 874, 583, 201]"
      ]
     },
     "execution_count": 27,
     "metadata": {},
     "output_type": "execute_result"
    }
   ],
   "source": [
    "tickets"
   ]
  },
  {
   "cell_type": "code",
   "execution_count": null,
   "metadata": {},
   "outputs": [],
   "source": []
  }
 ],
 "metadata": {
  "kernelspec": {
   "display_name": "Python 3",
   "language": "python",
   "name": "python3"
  },
  "language_info": {
   "codemirror_mode": {
    "name": "ipython",
    "version": 3
   },
   "file_extension": ".py",
   "mimetype": "text/x-python",
   "name": "python",
   "nbconvert_exporter": "python",
   "pygments_lexer": "ipython3",
   "version": "3.7.6"
  }
 },
 "nbformat": 4,
 "nbformat_minor": 4
}
