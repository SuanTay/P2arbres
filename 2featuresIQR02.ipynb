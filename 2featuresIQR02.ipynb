{
 "cells": [
  {
   "cell_type": "code",
   "execution_count": 5,
   "metadata": {},
   "outputs": [],
   "source": [
    "%matplotlib inline\n",
    "\n",
    "import pandas as pd\n",
    "import numpy as np\n",
    "import matplotlib.pyplot as plt\n",
    "import seaborn as sns\n",
    "\n",
    "df = pd.read_csv('https://s3-eu-west-1.amazonaws.com/static.oc-static.com/prod/courses/files/AI+Engineer/Project+2+Participez+%C3%A0+un+concours+sur+la+Smart+City/p2-arbres-fr.csv', sep=';')\n",
    "df.dropna(subset=['libelle_francais','espece','domanialite','genre'],inplace=True)\n"
   ]
  },
  {
   "cell_type": "code",
   "execution_count": 6,
   "metadata": {},
   "outputs": [],
   "source": [
    "def remove_outliers(df, column):\n",
    "    '''IQR\n",
    "    Cette fonction calcule l'IQR-range interquartile\n",
    "    Parameters\n",
    "    ----------\n",
    "    df : dataframe \n",
    "    column : colonne\n",
    "        Supprime les valeurs aberrantes selon l'IQR.\n",
    "    Returns\n",
    "    -------\n",
    "    df\n",
    "        df (True/False) avec les valeurs qui sont dans le IQR\n",
    "    '''\n",
    "    # Calcul Q1, Q2 et IQR\n",
    "    Q1=df[column].quantile(0.25)\n",
    "    Q3=df[column].quantile(0.75)\n",
    "    IQR=Q3 - Q1\n",
    "    #outliers limits\n",
    "    upper = Q3 + 1.5 * IQR\n",
    "    lower = Q1 - 1.5 * IQR\n",
    "    # mask\n",
    "    mask = (df[column] >= lower) & (df[column] <= upper)\n",
    "    return mask"
   ]
  },
  {
   "cell_type": "code",
   "execution_count": 7,
   "metadata": {},
   "outputs": [],
   "source": [
    "def remove_outliers2col(df, column1, column2):\n",
    "     '''IQR\n",
    "    Cette fonction calcule l'IQR-range interquartile de deux features\n",
    "    Parameters\n",
    "    ----------\n",
    "    df : dataframe \n",
    "    column : colonne\n",
    "        Supprime les valeurs aberrantes selon l'IQR.\n",
    "    Returns\n",
    "    -------\n",
    "    df\n",
    "        df sans les valeurs qui sont dans le IQR\n",
    "    '''\n",
    "    df_init=df\n",
    "    df_sva=pd.DataFrame()\n",
    "    # Calcule de l'IQR par genre\n",
    "    for index, row in pd.DataFrame(df_init[column1].unique()).iterrows():\n",
    "        df=df_init[df_init[column1]==row[0]]\n",
    "        #print (df.shape)\n",
    "        #filter\n",
    "        df=df[remove_outliers(df, column2)]\n",
    "        pd.concat([df_sva , df])\n",
    "    return df_sva"
   ]
  },
  {
   "cell_type": "code",
   "execution_count": 8,
   "metadata": {},
   "outputs": [
    {
     "name": "stdout",
     "output_type": "stream",
     "text": [
      "Nombre d'enregistrement initial                     : 197252 \n",
      "nombre de colonnes : 18 \n",
      "Nombre d'enregistrement après IQR                   : 0 \n",
      "nombre de colonnes : 0 \n"
     ]
    }
   ],
   "source": [
    "print(\"Nombre d'enregistrement initial                     : %s \\nnombre de colonnes : %s \" % df.shape)\n",
    "#hauteur\n",
    "df=remove_outliers2col(df,'genre','hauteur_m')\n",
    "print(\"Nombre d'enregistrement après IQR                   : %s \\nnombre de colonnes : %s \" % df.shape)\n"
   ]
  },
  {
   "cell_type": "code",
   "execution_count": null,
   "metadata": {},
   "outputs": [],
   "source": []
  }
 ],
 "metadata": {
  "kernelspec": {
   "display_name": "Python 3",
   "language": "python",
   "name": "python3"
  },
  "language_info": {
   "codemirror_mode": {
    "name": "ipython",
    "version": 3
   },
   "file_extension": ".py",
   "mimetype": "text/x-python",
   "name": "python",
   "nbconvert_exporter": "python",
   "pygments_lexer": "ipython3",
   "version": "3.8.3"
  }
 },
 "nbformat": 4,
 "nbformat_minor": 4
}
