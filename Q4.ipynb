{
 "cells": [
  {
   "cell_type": "markdown",
   "metadata": {},
   "source": [
    "# Question 4"
   ]
  },
  {
   "cell_type": "code",
   "execution_count": 1,
   "metadata": {},
   "outputs": [],
   "source": [
    "import random\n",
    "\n",
    "def pieceEquilibree():\n",
    "    if random.uniform(0,1) <= 0.5:\n",
    "        return 1\n",
    "    else:\n",
    "        return -1\n",
    "    \n",
    "def pieceJeuA():\n",
    "    if random.uniform(0,1) <= 0.49:\n",
    "        return 1\n",
    "    else:\n",
    "        return -1\n",
    "    \n",
    "def pieceJeuB1():\n",
    "    if random.uniform(0,1) <= 0.09:\n",
    "        return 1\n",
    "    else:\n",
    "        return -1\n",
    "    \n",
    "def pieceJeuB2():\n",
    "    if random.random() <= 0.74:\n",
    "        return 1\n",
    "    else:\n",
    "        return -1"
   ]
  },
  {
   "cell_type": "code",
   "execution_count": 4,
   "metadata": {},
   "outputs": [
    {
     "name": "stdout",
     "output_type": "stream",
     "text": [
      "le gain net est de : 6072.12 €\n"
     ]
    }
   ],
   "source": [
    "moy = 0\n",
    "\n",
    "for i in range(100):\n",
    "    n = 1000000\n",
    "    gain = 0\n",
    "\n",
    "    for i in range(n):\n",
    "        jeu = pieceEquilibree()\n",
    "        if jeu == 1:\n",
    "            gain += pieceJeuA()\n",
    "        else:\n",
    "            if gain % 3 == 0:\n",
    "                gain += pieceJeuB1()\n",
    "            else:\n",
    "                gain += pieceJeuB2()\n",
    "    moy += gain\n",
    "    \n",
    "print(\"le gain net est de :\", moy /100, \"€\")"
   ]
  },
  {
   "cell_type": "code",
   "execution_count": 3,
   "metadata": {},
   "outputs": [
    {
     "data": {
      "text/plain": [
       "\u001b[1;31mSignature:\u001b[0m \u001b[0mrandom\u001b[0m\u001b[1;33m.\u001b[0m\u001b[0msample\u001b[0m\u001b[1;33m(\u001b[0m\u001b[0mpopulation\u001b[0m\u001b[1;33m,\u001b[0m \u001b[0mk\u001b[0m\u001b[1;33m)\u001b[0m\u001b[1;33m\u001b[0m\u001b[1;33m\u001b[0m\u001b[0m\n",
       "\u001b[1;31mDocstring:\u001b[0m\n",
       "Chooses k unique random elements from a population sequence or set.\n",
       "\n",
       "Returns a new list containing elements from the population while\n",
       "leaving the original population unchanged.  The resulting list is\n",
       "in selection order so that all sub-slices will also be valid random\n",
       "samples.  This allows raffle winners (the sample) to be partitioned\n",
       "into grand prize and second place winners (the subslices).\n",
       "\n",
       "Members of the population need not be hashable or unique.  If the\n",
       "population contains repeats, then each occurrence is a possible\n",
       "selection in the sample.\n",
       "\n",
       "To choose a sample in a range of integers, use range as an argument.\n",
       "This is especially fast and space efficient for sampling from a\n",
       "large population:   sample(range(10000000), 60)\n",
       "\u001b[1;31mFile:\u001b[0m      e:\\anaconda3\\lib\\random.py\n",
       "\u001b[1;31mType:\u001b[0m      method\n"
      ]
     },
     "metadata": {},
     "output_type": "display_data"
    }
   ],
   "source": [
    "?random.sample"
   ]
  },
  {
   "cell_type": "code",
   "execution_count": null,
   "metadata": {},
   "outputs": [],
   "source": []
  }
 ],
 "metadata": {
  "kernelspec": {
   "display_name": "Python 3",
   "language": "python",
   "name": "python3"
  },
  "language_info": {
   "codemirror_mode": {
    "name": "ipython",
    "version": 3
   },
   "file_extension": ".py",
   "mimetype": "text/x-python",
   "name": "python",
   "nbconvert_exporter": "python",
   "pygments_lexer": "ipython3",
   "version": "3.7.6"
  }
 },
 "nbformat": 4,
 "nbformat_minor": 4
}
